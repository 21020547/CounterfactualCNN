{
 "cells": [
  {
   "cell_type": "code",
   "execution_count": 11,
   "metadata": {},
   "outputs": [],
   "source": [
    "import torch\n",
    "import torchvision\n",
    "import torchvision.transforms as transforms\n",
    "import numpy as np\n",
    "from matplotlib import pyplot as plt\n",
    "import cv2\n",
    "\n",
    "\n",
    "\n",
    "filter = np.array(\n",
    "        [[1, 0, -1],\n",
    "        [1, 0, -1],\n",
    "        [1, 0, -1]]\n",
    "        )\n",
    "\n",
    "\n",
    "\n",
    "\n",
    "cap = cv2.VideoCapture(\"D:\\\\Dataset\\\\archive\\\\UCF101\\\\UCF-101\\\\ApplyLipstick\\\\v_ApplyLipstick_g01_c02.avi\")\n",
    "frames = int(cap.get(cv2.CAP_PROP_FRAME_COUNT))\n",
    "\n",
    "\n",
    "\n",
    "for frame in range(frames):\n",
    "    print(frame)\n",
    "    ret, img = cap.read()\n",
    "    filtered_image = np.full((img.shape[0] - 2, img.shape[1] - 2, 3), 0).astype(int)\n",
    "    \n",
    "    if not ret:\n",
    "        break\n",
    "\n",
    "    else:\n",
    "        if frame % 100 == 0:\n",
    "            for row in range(img.shape[0]): # stride is 1\n",
    "                for col in range(img.shape[1]): # stride is 1\n",
    "                    if row > 2 and col > 2:\n",
    "                        # Apply filter on first channel of image\n",
    "                        filtered_image[row - 2:row, col - 2:col, :] =  np.sum(img[row -3 :row, col - 3:col, 0] * filter).astype(int)              \n",
    "            plt.imshow(filtered_image, vmin=filtered_image.min(), vmax=filtered_image.max())\n",
    "            plt.show()\n",
    "    \n",
    "\n"
   ]
  },
  {
   "cell_type": "code",
   "execution_count": 8,
   "metadata": {},
   "outputs": [],
   "source": [
    "import torch.nn as nn\n",
    "import torch.nn.functional as F\n",
    "\n",
    "class CNN(nn.Module):\n",
    "    def __init__(self):\n",
    "        # Initialize super class\n",
    "        super(CNN, self).__init__()\n",
    "\n",
    "        # Define architecture of CNN\n",
    "        self.conv1 = nn.Conv2d(in_channels=3, out_channels=5, kernel_size=3, padding=1) \n",
    "        self.conv2 = nn.Conv2d(in_channels=5, out_channels=10, kernel_size=3, padding=1) \n",
    "        self.pool1 = nn.MaxPool2d(kernel_size=2, stride=2)\n",
    "        self.conv3 = nn.Conv2d(in_channels=10, out_channels=20, kernel_size=5, padding=2)\n",
    "        self.conv4 = nn.Conv2d(in_channels=20, out_channels=30, kernel_size=5, padding=2)\n",
    "        self.pool2 = nn.MaxPool2d(kernel_size=2, stride=2)\n",
    "\n",
    "        # Classifier, Input are 30 Feature maps with 128 x 128 values\n",
    "        self.fc1 = nn.Linear(30 * 128 * 128, 120)\n",
    "        self.fc2 = nn.Linear(120, 84)\n",
    "        self.fc3 = nn.Linear(84, 8)\n",
    "\n",
    "    def forward(self, x):\n",
    "        # Feature extraction\n",
    "        x = self.pool1(F.relu(self.conv2(F.relu(self.conv1(x)))))\n",
    "        x = self.pool2(F.relu(self.conv4(F.relu(self.conv3(x)))))\n",
    "\n",
    "        # Flatten and feed to classifier\n",
    "        x = x.flatten(start_dim=1)\n",
    "        x = F.relu(self.fc1(x))\n",
    "        x = F.relu(self.fc2(x))\n",
    "        x = self.fc3(x)\n",
    "        return x\n",
    "    "
   ]
  },
  {
   "cell_type": "code",
   "execution_count": 9,
   "metadata": {},
   "outputs": [
    {
     "data": {
      "text/plain": [
       "CNN(\n",
       "  (conv1): Conv2d(3, 5, kernel_size=(3, 3), stride=(1, 1), padding=(1, 1))\n",
       "  (conv2): Conv2d(5, 10, kernel_size=(3, 3), stride=(1, 1), padding=(1, 1))\n",
       "  (pool1): MaxPool2d(kernel_size=2, stride=2, padding=0, dilation=1, ceil_mode=False)\n",
       "  (conv3): Conv2d(10, 20, kernel_size=(5, 5), stride=(1, 1), padding=(2, 2))\n",
       "  (conv4): Conv2d(20, 30, kernel_size=(5, 5), stride=(1, 1), padding=(2, 2))\n",
       "  (pool2): MaxPool2d(kernel_size=2, stride=2, padding=0, dilation=1, ceil_mode=False)\n",
       "  (fc1): Linear(in_features=491520, out_features=120, bias=True)\n",
       "  (fc2): Linear(in_features=120, out_features=84, bias=True)\n",
       "  (fc3): Linear(in_features=84, out_features=8, bias=True)\n",
       ")"
      ]
     },
     "execution_count": 9,
     "metadata": {},
     "output_type": "execute_result"
    }
   ],
   "source": [
    "device = torch.device(\"cuda:0\")\n",
    "net = CNN()\n",
    "net = net.to(device)\n",
    "net"
   ]
  }
 ],
 "metadata": {
  "kernelspec": {
   "display_name": "base",
   "language": "python",
   "name": "python3"
  },
  "language_info": {
   "codemirror_mode": {
    "name": "ipython",
    "version": 3
   },
   "file_extension": ".py",
   "mimetype": "text/x-python",
   "name": "python",
   "nbconvert_exporter": "python",
   "pygments_lexer": "ipython3",
   "version": "3.10.9"
  },
  "orig_nbformat": 4
 },
 "nbformat": 4,
 "nbformat_minor": 2
}
